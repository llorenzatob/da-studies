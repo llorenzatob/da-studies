{
  "nbformat": 4,
  "nbformat_minor": 0,
  "metadata": {
    "colab": {
      "provenance": []
    },
    "kernelspec": {
      "name": "python3",
      "display_name": "Python 3"
    }
  },
  "cells": [
    {
      "cell_type": "markdown",
      "metadata": {
        "id": "KJqp9AANOCtf"
      },
      "source": [
        "<img src=\"https://raw.githubusercontent.com/andre-marcos-perez/ebac-course-utils/main/media/logo/newebac_logo_black_half.png\" alt=\"ebac-logo\">\n",
        "\n",
        "---\n",
        "\n",
        "# **Módulo** | Python: Estruturas de Dados\n",
        "Caderno de **Exercícios**<br> \n",
        "Professor [André Perez](https://www.linkedin.com/in/andremarcosperez/)\n",
        "\n",
        "---"
      ]
    },
    {
      "cell_type": "markdown",
      "metadata": {
        "id": "d9jDtUbDOE1-"
      },
      "source": [
        "# **Tópicos**\n",
        "\n",
        "<ol type=\"1\">\n",
        "  <li>Listas;</li>\n",
        "  <li>Conjuntos;</li>\n",
        "  <li>Dicionários.</li>\n",
        "</ol>"
      ]
    },
    {
      "cell_type": "markdown",
      "metadata": {
        "id": "SmoHgt-lwkpD"
      },
      "source": [
        "---"
      ]
    },
    {
      "cell_type": "markdown",
      "metadata": {
        "id": "GABI6OW8OfQ2"
      },
      "source": [
        "# **Exercícios**"
      ]
    },
    {
      "cell_type": "markdown",
      "metadata": {
        "id": "muD1vxozykSC"
      },
      "source": [
        "## 1\\. Listas"
      ]
    },
    {
      "cell_type": "markdown",
      "metadata": {
        "id": "ahrFfCuBxJKs"
      },
      "source": [
        "Criei uma lista chamada `filmes` com o nome dos 10 primeiros filmes mais bem avaliados no site no [IMDB](https://www.imdb.com/chart/top/). Imprima o resultado."
      ]
    },
    {
      "cell_type": "code",
      "metadata": {
        "id": "OgL6Hv3bzOHI",
        "colab": {
          "base_uri": "https://localhost:8080/"
        },
        "outputId": "5247821f-89c0-4a01-e4c2-262730e39056"
      },
      "source": [
        "filmes = [\"Um Sonho de Liberdade\", \"O Poderoso Chefão\", \"Batman: O Cavaleiro das Trevas\", \"O Poderoso Chefão II\", \"12 Homens e uma Sentença\", \"A Lista de Schindler\", \"O Senhor dos Anéis: O Retorno do Rei\", \"Pulp Fiction: Tempo de Violência\", \"O Senhor dos Anéis: A Sociedade do Anel\", \"Forrest Gump: O Contador de Histórias\"]\n",
        "print(filmes)\n"
      ],
      "execution_count": 187,
      "outputs": [
        {
          "output_type": "stream",
          "name": "stdout",
          "text": [
            "['Um Sonho de Liberdade', 'O Poderoso Chefão', 'Batman: O Cavaleiro das Trevas', 'O Poderoso Chefão II', '12 Homens e uma Sentença', 'A Lista de Schindler', 'O Senhor dos Anéis: O Retorno do Rei', 'Pulp Fiction: Tempo de Violência', 'O Senhor dos Anéis: A Sociedade do Anel', 'Forrest Gump: O Contador de Histórias']\n"
          ]
        }
      ]
    },
    {
      "cell_type": "markdown",
      "source": [
        " Um Sonho de Liberdade (1994)\t9,2\t\t\n",
        "O Poderoso Chefão\t2. O Poderoso Chefão (1972)\t9,2\t\t\n",
        "Batman: O Cavaleiro das Trevas\t3. Batman: O Cavaleiro das Trevas (2008)\t9,0\t\t\n",
        "O Poderoso Chefão II\t4. O Poderoso Chefão II (1974)\t9,0\t\t\n",
        "12 Homens e uma Sentença\t5. 12 Homens e uma Sentença (1957)\t9,0\t\t\n",
        "A Lista de Schindler\t6. A Lista de Schindler (1993)\t8,9\t\t\n",
        "O Senhor dos Anéis: O Retorno do Rei\t7. O Senhor dos Anéis: O Retorno do Rei (2003)\t8,9\t\t\n",
        "Pulp Fiction: Tempo de Violência\t8. Pulp Fiction: Tempo de Violência (1994)\t8,8\t\t\n",
        "O Senhor dos Anéis: A Sociedade do Anel\t9. O Senhor dos Anéis: A Sociedade do Anel (2001)\t8,8\t\t\n",
        "Três Homens em Conflito\t10. Três Homens em Conflito (1966)\t8,8\t\t\n",
        "Forrest Gump: O Contador de Histórias\t11. Forrest Gump: O Contador de Histórias (1994)\t8,8\t\t\n",
        "Clube da Luta\t12. Clube da Luta (1999)\t8,7\t\t\n",
        "O Senhor dos Anéis: As Duas Torres\t13. O Senhor dos Anéis: As Duas Torres (2002)\t8,7\t\t\n"
      ],
      "metadata": {
        "id": "A87IYQr2-07I"
      }
    },
    {
      "cell_type": "markdown",
      "metadata": {
        "id": "KI9zQRT2xa7m"
      },
      "source": [
        "Simule a movimentação do *ranking*. Utilize os métodos `insert` e `pop` para trocar a posição do primeiro e do segundo filme da lista. Imprima o resultado.\n",
        "\n"
      ]
    },
    {
      "cell_type": "code",
      "metadata": {
        "id": "zX3mA3_GzrXH",
        "colab": {
          "base_uri": "https://localhost:8080/"
        },
        "outputId": "57c51ca0-1229-4474-eb1e-871ae8a367af"
      },
      "source": [
        "print(filmes)\n",
        "filmes.pop(0)\n",
        "filmes.insert(1, \"Um Sonho de Liberdade\")\n",
        "print(filmes)"
      ],
      "execution_count": 188,
      "outputs": [
        {
          "output_type": "stream",
          "name": "stdout",
          "text": [
            "['Um Sonho de Liberdade', 'O Poderoso Chefão', 'Batman: O Cavaleiro das Trevas', 'O Poderoso Chefão II', '12 Homens e uma Sentença', 'A Lista de Schindler', 'O Senhor dos Anéis: O Retorno do Rei', 'Pulp Fiction: Tempo de Violência', 'O Senhor dos Anéis: A Sociedade do Anel', 'Forrest Gump: O Contador de Histórias']\n",
            "['O Poderoso Chefão', 'Um Sonho de Liberdade', 'Batman: O Cavaleiro das Trevas', 'O Poderoso Chefão II', '12 Homens e uma Sentença', 'A Lista de Schindler', 'O Senhor dos Anéis: O Retorno do Rei', 'Pulp Fiction: Tempo de Violência', 'O Senhor dos Anéis: A Sociedade do Anel', 'Forrest Gump: O Contador de Histórias']\n"
          ]
        }
      ]
    },
    {
      "cell_type": "markdown",
      "metadata": {
        "id": "zMN1Q3jdwoJm"
      },
      "source": [
        "---"
      ]
    },
    {
      "cell_type": "markdown",
      "metadata": {
        "id": "lxa5L6uF0ZJE"
      },
      "source": [
        "## 2\\. Conjuntos"
      ]
    },
    {
      "cell_type": "markdown",
      "metadata": {
        "id": "9JahS2Kj0d5u"
      },
      "source": [
        "Aconteceu um erro no seu *ranking*. Simule a duplicação dos três últimos filmes da lista. Imprima o resultado."
      ]
    },
    {
      "cell_type": "code",
      "source": [
        "filmes.append(\"Forrest Gump: O Contador de Histórias\")\n",
        "filmes.append(\"Forrest Gump: O Contador de Histórias\")\n",
        "print(filmes)"
      ],
      "metadata": {
        "colab": {
          "base_uri": "https://localhost:8080/"
        },
        "id": "ZN0lnkU5HbnD",
        "outputId": "983fabe5-07d1-41c6-bb9e-ecbef5454bf1"
      },
      "execution_count": 189,
      "outputs": [
        {
          "output_type": "stream",
          "name": "stdout",
          "text": [
            "['O Poderoso Chefão', 'Um Sonho de Liberdade', 'Batman: O Cavaleiro das Trevas', 'O Poderoso Chefão II', '12 Homens e uma Sentença', 'A Lista de Schindler', 'O Senhor dos Anéis: O Retorno do Rei', 'Pulp Fiction: Tempo de Violência', 'O Senhor dos Anéis: A Sociedade do Anel', 'Forrest Gump: O Contador de Histórias', 'Forrest Gump: O Contador de Histórias', 'Forrest Gump: O Contador de Histórias']\n"
          ]
        }
      ]
    },
    {
      "cell_type": "markdown",
      "metadata": {
        "id": "suxTfCJB6ZiX"
      },
      "source": [
        "Utiliza a conversão `set` e `list` para remover os valores duplicados. Imprima o resultado. "
      ]
    },
    {
      "cell_type": "code",
      "metadata": {
        "id": "ZvUGN-0n6joM",
        "colab": {
          "base_uri": "https://localhost:8080/"
        },
        "outputId": "46af09e0-5d2b-426f-dd9d-0b28191d7175"
      },
      "source": [
        "print(set(filmes))\n",
        "print(type(set(filmes)))\n",
        "print(list(filmes))\n",
        "print(type(list(filmes)))"
      ],
      "execution_count": 190,
      "outputs": [
        {
          "output_type": "stream",
          "name": "stdout",
          "text": [
            "{'12 Homens e uma Sentença', 'A Lista de Schindler', 'Batman: O Cavaleiro das Trevas', 'Um Sonho de Liberdade', 'Pulp Fiction: Tempo de Violência', 'O Senhor dos Anéis: A Sociedade do Anel', 'O Poderoso Chefão II', 'O Senhor dos Anéis: O Retorno do Rei', 'O Poderoso Chefão', 'Forrest Gump: O Contador de Histórias'}\n",
            "<class 'set'>\n",
            "['O Poderoso Chefão', 'Um Sonho de Liberdade', 'Batman: O Cavaleiro das Trevas', 'O Poderoso Chefão II', '12 Homens e uma Sentença', 'A Lista de Schindler', 'O Senhor dos Anéis: O Retorno do Rei', 'Pulp Fiction: Tempo de Violência', 'O Senhor dos Anéis: A Sociedade do Anel', 'Forrest Gump: O Contador de Histórias', 'Forrest Gump: O Contador de Histórias', 'Forrest Gump: O Contador de Histórias']\n",
            "<class 'list'>\n"
          ]
        }
      ]
    },
    {
      "cell_type": "markdown",
      "metadata": {
        "id": "ShkK35eQ6pAM"
      },
      "source": [
        "---"
      ]
    },
    {
      "cell_type": "markdown",
      "metadata": {
        "id": "EL_FzmxL6rTv"
      },
      "source": [
        "## 3\\. Dicionários"
      ]
    },
    {
      "cell_type": "markdown",
      "metadata": {
        "id": "i8l0gFqRCpfT"
      },
      "source": [
        "Repita os exercícios da parte 1 (listas). Os elementos da lista `filmes` devem ser dicionários no seguinte formato: `{'nome': <nome-do-filme>, 'ano': <ano do filme>, 'sinopse': <sinopse do filme>}`. "
      ]
    },
    {
      "cell_type": "code",
      "metadata": {
        "id": "tu6MSFwGDnHv",
        "colab": {
          "base_uri": "https://localhost:8080/"
        },
        "outputId": "b299bd65-c945-44ee-801f-6b0257b662ff"
      },
      "source": [
        "filme1 =  {\n",
        "          \"nome\": \"1 - Um Sonho de Liberdade\",\n",
        "          \"ano\":  \"1994\",\n",
        "          \"sinopse\": \"Dois homens presos se reúnem ao longo de vários anos, encontrando consolo e eventual redenção através de atos de decência comum.\"}\n",
        "filme2 =  {\n",
        "          \"nome\": \"2 - O Poderoso Chefão\",\n",
        "          \"ano\": \"1972\",\n",
        "          \"sinopse\": \"O patriarca idoso de uma dinastia do crime organizado transfere o controle de seu império clandestino para seu filho relutante.\"}\n",
        "filme3 =  {\n",
        "          \"nome\": \"3 - Batman: O Cavaleiro das Trevas\",\n",
        "          \"ano\": \"2008\",\n",
        "          \"sinopse\": \"Quando a ameaça conhecida como O Coringa surge de seu passado, causa estragos e caos nas pessoas de Gotham. O Cavaleiro das Trevas deve aceitar um dos maiores testes para combater a injustiça.\"}\n",
        "filme4 =  {\n",
        "          \"nome\": \"4 - O Poderoso Chefão II\",\n",
        "          \"ano\": \"1974\",\n",
        "          \"sinopse\": \"Em 1950, Michael Corleone, agora à frente da família, tenta expandir o negócio do crime a Las Vegas, Los Angeles e Cuba. Paralelamente, é revelada a história de Vito Corleone, e de como saiu da Sicília e chegou a Nova Iorque.\"}\n",
        "filme5 =  {\n",
        "          \"nome\": \"5 - 12 Homens e uma Sentença\",\n",
        "          \"ano\": \"1957\",\n",
        "          \"sinopse\": \"Um jurado que se aposenta tenta evitar um erro judicial forçando seus colegas a reconsiderarem as evidências.\"}\n",
        "filme6 =  {\n",
        "          \"nome\": \"6 - A Lista de Schindler\",\n",
        "          \"ano\": \"1993\",\n",
        "          \"sinopse\": \"Depois de testemunhar a perseguição dos judaicos na Polônia ocupada pelos alemães durante a Segunda Guerra Mundial, o industrial Oskar Schindler se começa a preocupar com sua força de trabalho judaica.\"}\n",
        "filme7 =  {\n",
        "          \"nome\": \"7 - O Senhor dos Anéis: O Retorno do Rei\",\n",
        "          \"ano\": \"2003\",\n",
        "          \"sinopse\": \"Gandalf e Aragorn lideram o Mundo dos Homens contra o exército de Sauron para desviar o olhar de Frodo e Sam quando eles se aproximam á Montanha da Perdição com o Um Anel.\"}\n",
        "filme8 =  {\n",
        "          \"nome\": \"8 - Pulp Fiction: Tempo de Violência\",\n",
        "          \"ano\": \"1994\",\n",
        "          \"sinopse\": \"As vidas de dois assassinos da máfia, um boxeador, um gângster e sua esposa, e um par de bandidos se entrelaçam em quatro histórias de violência e redenção.\"}\n",
        "filme9 =  {\n",
        "          \"nome\":  \"9 - O Senhor dos Anéis: A Sociedade do Anel\",\n",
        "          \"ano\": \"2001\",\n",
        "          \"sinopse\": \"Um manso hobbit do Condado e oito companheiros partem em uma jornada para destruir o poderoso Um Anel e salvar a Terra-média das Trevas.\"}\n",
        "filme10 = {\n",
        "          \"nome\": \"10 - Forrest Gump: O Contador de Histórias\",\n",
        "          \"ano\": \"1994\",\n",
        "          \"sinopse\": \"As presidências de Kennedy e Johnson, os eventos do Vietnã, Watergate e outra história são desenvolvidos através da perspectiva de um homem do Alabama com um alto quociente Intelectual.\"\n",
        "}\n",
        "for x in filme1:\n",
        "  print(filme1[x])\n",
        "for x in filme2:\n",
        "  print(filme2[x])\n",
        "for x in filme3:\n",
        "  print(filme3[x])\n",
        "for x in filme4:\n",
        "  print(filme4[x])\n",
        "for x in filme5:\n",
        "  print(filme5[x])\n",
        "for x in filme6:\n",
        "  print(filme6[x])\n",
        "for x in filme7:\n",
        "  print(filme7[x])\n",
        "for x in filme8:\n",
        "  print(filme8[x])\n",
        "for x in filme9:\n",
        "  print(filme9[x])\n",
        "for x in filme10:\n",
        "  print(filme10[x])"
      ],
      "execution_count": 191,
      "outputs": [
        {
          "output_type": "stream",
          "name": "stdout",
          "text": [
            "1 - Um Sonho de Liberdade\n",
            "1994\n",
            "Dois homens presos se reúnem ao longo de vários anos, encontrando consolo e eventual redenção através de atos de decência comum.\n",
            "2 - O Poderoso Chefão\n",
            "1972\n",
            "O patriarca idoso de uma dinastia do crime organizado transfere o controle de seu império clandestino para seu filho relutante.\n",
            "3 - Batman: O Cavaleiro das Trevas\n",
            "2008\n",
            "Quando a ameaça conhecida como O Coringa surge de seu passado, causa estragos e caos nas pessoas de Gotham. O Cavaleiro das Trevas deve aceitar um dos maiores testes para combater a injustiça.\n",
            "4 - O Poderoso Chefão II\n",
            "1974\n",
            "Em 1950, Michael Corleone, agora à frente da família, tenta expandir o negócio do crime a Las Vegas, Los Angeles e Cuba. Paralelamente, é revelada a história de Vito Corleone, e de como saiu da Sicília e chegou a Nova Iorque.\n",
            "5 - 12 Homens e uma Sentença\n",
            "1957\n",
            "Um jurado que se aposenta tenta evitar um erro judicial forçando seus colegas a reconsiderarem as evidências.\n",
            "6 - A Lista de Schindler\n",
            "1993\n",
            "Depois de testemunhar a perseguição dos judaicos na Polônia ocupada pelos alemães durante a Segunda Guerra Mundial, o industrial Oskar Schindler se começa a preocupar com sua força de trabalho judaica.\n",
            "7 - O Senhor dos Anéis: O Retorno do Rei\n",
            "2003\n",
            "Gandalf e Aragorn lideram o Mundo dos Homens contra o exército de Sauron para desviar o olhar de Frodo e Sam quando eles se aproximam á Montanha da Perdição com o Um Anel.\n",
            "8 - Pulp Fiction: Tempo de Violência\n",
            "1994\n",
            "As vidas de dois assassinos da máfia, um boxeador, um gângster e sua esposa, e um par de bandidos se entrelaçam em quatro histórias de violência e redenção.\n",
            "9 - O Senhor dos Anéis: A Sociedade do Anel\n",
            "2001\n",
            "Um manso hobbit do Condado e oito companheiros partem em uma jornada para destruir o poderoso Um Anel e salvar a Terra-média das Trevas.\n",
            "10 - Forrest Gump: O Contador de Histórias\n",
            "1994\n",
            "As presidências de Kennedy e Johnson, os eventos do Vietnã, Watergate e outra história são desenvolvidos através da perspectiva de um homem do Alabama com um alto quociente Intelectual.\n"
          ]
        }
      ]
    },
    {
      "cell_type": "code",
      "source": [],
      "metadata": {
        "id": "_wKub2JcMKeC"
      },
      "execution_count": 191,
      "outputs": []
    }
  ]
}